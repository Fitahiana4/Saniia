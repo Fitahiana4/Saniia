{
  "cells": [
    {
      "cell_type": "markdown",
      "source": [
        "# 1) Install/import important librairies"
      ],
      "metadata": {
        "id": "K9Ytghng43Tj"
      }
    },
    {
      "cell_type": "code",
      "source": [
        "# Install spacy to access to transformer models\n",
        "!pip install spacy-transformers"
      ],
      "metadata": {
        "colab": {
          "base_uri": "https://localhost:8080/",
          "height": 0
        },
        "id": "VxNdzPOgnidf",
        "outputId": "6175aa0d-b9cd-48a5-f2da-d30e11e9df43"
      },
      "execution_count": 1,
      "outputs": [
        {
          "output_type": "stream",
          "name": "stdout",
          "text": [
            "Requirement already satisfied: spacy-transformers in /usr/local/lib/python3.10/dist-packages (1.3.5)\n",
            "Requirement already satisfied: spacy<4.1.0,>=3.5.0 in /usr/local/lib/python3.10/dist-packages (from spacy-transformers) (3.7.5)\n",
            "Requirement already satisfied: transformers<4.37.0,>=3.4.0 in /usr/local/lib/python3.10/dist-packages (from spacy-transformers) (4.36.2)\n",
            "Requirement already satisfied: torch>=1.8.0 in /usr/local/lib/python3.10/dist-packages (from spacy-transformers) (2.3.1+cu121)\n",
            "Requirement already satisfied: srsly<3.0.0,>=2.4.0 in /usr/local/lib/python3.10/dist-packages (from spacy-transformers) (2.4.8)\n",
            "Requirement already satisfied: spacy-alignments<1.0.0,>=0.7.2 in /usr/local/lib/python3.10/dist-packages (from spacy-transformers) (0.9.1)\n",
            "Requirement already satisfied: numpy>=1.19.0 in /usr/local/lib/python3.10/dist-packages (from spacy-transformers) (1.26.4)\n",
            "Requirement already satisfied: spacy-legacy<3.1.0,>=3.0.11 in /usr/local/lib/python3.10/dist-packages (from spacy<4.1.0,>=3.5.0->spacy-transformers) (3.0.12)\n",
            "Requirement already satisfied: spacy-loggers<2.0.0,>=1.0.0 in /usr/local/lib/python3.10/dist-packages (from spacy<4.1.0,>=3.5.0->spacy-transformers) (1.0.5)\n",
            "Requirement already satisfied: murmurhash<1.1.0,>=0.28.0 in /usr/local/lib/python3.10/dist-packages (from spacy<4.1.0,>=3.5.0->spacy-transformers) (1.0.10)\n",
            "Requirement already satisfied: cymem<2.1.0,>=2.0.2 in /usr/local/lib/python3.10/dist-packages (from spacy<4.1.0,>=3.5.0->spacy-transformers) (2.0.8)\n",
            "Requirement already satisfied: preshed<3.1.0,>=3.0.2 in /usr/local/lib/python3.10/dist-packages (from spacy<4.1.0,>=3.5.0->spacy-transformers) (3.0.9)\n",
            "Requirement already satisfied: thinc<8.3.0,>=8.2.2 in /usr/local/lib/python3.10/dist-packages (from spacy<4.1.0,>=3.5.0->spacy-transformers) (8.2.5)\n",
            "Requirement already satisfied: wasabi<1.2.0,>=0.9.1 in /usr/local/lib/python3.10/dist-packages (from spacy<4.1.0,>=3.5.0->spacy-transformers) (1.1.3)\n",
            "Requirement already satisfied: catalogue<2.1.0,>=2.0.6 in /usr/local/lib/python3.10/dist-packages (from spacy<4.1.0,>=3.5.0->spacy-transformers) (2.0.10)\n",
            "Requirement already satisfied: weasel<0.5.0,>=0.1.0 in /usr/local/lib/python3.10/dist-packages (from spacy<4.1.0,>=3.5.0->spacy-transformers) (0.4.1)\n",
            "Requirement already satisfied: typer<1.0.0,>=0.3.0 in /usr/local/lib/python3.10/dist-packages (from spacy<4.1.0,>=3.5.0->spacy-transformers) (0.12.3)\n",
            "Requirement already satisfied: tqdm<5.0.0,>=4.38.0 in /usr/local/lib/python3.10/dist-packages (from spacy<4.1.0,>=3.5.0->spacy-transformers) (4.66.5)\n",
            "Requirement already satisfied: requests<3.0.0,>=2.13.0 in /usr/local/lib/python3.10/dist-packages (from spacy<4.1.0,>=3.5.0->spacy-transformers) (2.32.3)\n",
            "Requirement already satisfied: pydantic!=1.8,!=1.8.1,<3.0.0,>=1.7.4 in /usr/local/lib/python3.10/dist-packages (from spacy<4.1.0,>=3.5.0->spacy-transformers) (2.8.2)\n",
            "Requirement already satisfied: jinja2 in /usr/local/lib/python3.10/dist-packages (from spacy<4.1.0,>=3.5.0->spacy-transformers) (3.1.4)\n",
            "Requirement already satisfied: setuptools in /usr/local/lib/python3.10/dist-packages (from spacy<4.1.0,>=3.5.0->spacy-transformers) (72.2.0)\n",
            "Requirement already satisfied: packaging>=20.0 in /usr/local/lib/python3.10/dist-packages (from spacy<4.1.0,>=3.5.0->spacy-transformers) (24.1)\n",
            "Requirement already satisfied: langcodes<4.0.0,>=3.2.0 in /usr/local/lib/python3.10/dist-packages (from spacy<4.1.0,>=3.5.0->spacy-transformers) (3.4.0)\n",
            "Requirement already satisfied: filelock in /usr/local/lib/python3.10/dist-packages (from torch>=1.8.0->spacy-transformers) (3.15.4)\n",
            "Requirement already satisfied: typing-extensions>=4.8.0 in /usr/local/lib/python3.10/dist-packages (from torch>=1.8.0->spacy-transformers) (4.12.2)\n",
            "Requirement already satisfied: sympy in /usr/local/lib/python3.10/dist-packages (from torch>=1.8.0->spacy-transformers) (1.13.1)\n",
            "Requirement already satisfied: networkx in /usr/local/lib/python3.10/dist-packages (from torch>=1.8.0->spacy-transformers) (3.3)\n",
            "Requirement already satisfied: fsspec in /usr/local/lib/python3.10/dist-packages (from torch>=1.8.0->spacy-transformers) (2024.6.1)\n",
            "Requirement already satisfied: nvidia-cuda-nvrtc-cu12==12.1.105 in /usr/local/lib/python3.10/dist-packages (from torch>=1.8.0->spacy-transformers) (12.1.105)\n",
            "Requirement already satisfied: nvidia-cuda-runtime-cu12==12.1.105 in /usr/local/lib/python3.10/dist-packages (from torch>=1.8.0->spacy-transformers) (12.1.105)\n",
            "Requirement already satisfied: nvidia-cuda-cupti-cu12==12.1.105 in /usr/local/lib/python3.10/dist-packages (from torch>=1.8.0->spacy-transformers) (12.1.105)\n",
            "Requirement already satisfied: nvidia-cudnn-cu12==8.9.2.26 in /usr/local/lib/python3.10/dist-packages (from torch>=1.8.0->spacy-transformers) (8.9.2.26)\n",
            "Requirement already satisfied: nvidia-cublas-cu12==12.1.3.1 in /usr/local/lib/python3.10/dist-packages (from torch>=1.8.0->spacy-transformers) (12.1.3.1)\n",
            "Requirement already satisfied: nvidia-cufft-cu12==11.0.2.54 in /usr/local/lib/python3.10/dist-packages (from torch>=1.8.0->spacy-transformers) (11.0.2.54)\n",
            "Requirement already satisfied: nvidia-curand-cu12==10.3.2.106 in /usr/local/lib/python3.10/dist-packages (from torch>=1.8.0->spacy-transformers) (10.3.2.106)\n",
            "Requirement already satisfied: nvidia-cusolver-cu12==11.4.5.107 in /usr/local/lib/python3.10/dist-packages (from torch>=1.8.0->spacy-transformers) (11.4.5.107)\n",
            "Requirement already satisfied: nvidia-cusparse-cu12==12.1.0.106 in /usr/local/lib/python3.10/dist-packages (from torch>=1.8.0->spacy-transformers) (12.1.0.106)\n",
            "Requirement already satisfied: nvidia-nccl-cu12==2.20.5 in /usr/local/lib/python3.10/dist-packages (from torch>=1.8.0->spacy-transformers) (2.20.5)\n",
            "Requirement already satisfied: nvidia-nvtx-cu12==12.1.105 in /usr/local/lib/python3.10/dist-packages (from torch>=1.8.0->spacy-transformers) (12.1.105)\n",
            "Requirement already satisfied: triton==2.3.1 in /usr/local/lib/python3.10/dist-packages (from torch>=1.8.0->spacy-transformers) (2.3.1)\n",
            "Requirement already satisfied: nvidia-nvjitlink-cu12 in /usr/local/lib/python3.10/dist-packages (from nvidia-cusolver-cu12==11.4.5.107->torch>=1.8.0->spacy-transformers) (12.6.20)\n",
            "Requirement already satisfied: huggingface-hub<1.0,>=0.19.3 in /usr/local/lib/python3.10/dist-packages (from transformers<4.37.0,>=3.4.0->spacy-transformers) (0.23.5)\n",
            "Requirement already satisfied: pyyaml>=5.1 in /usr/local/lib/python3.10/dist-packages (from transformers<4.37.0,>=3.4.0->spacy-transformers) (6.0.2)\n",
            "Requirement already satisfied: regex!=2019.12.17 in /usr/local/lib/python3.10/dist-packages (from transformers<4.37.0,>=3.4.0->spacy-transformers) (2024.5.15)\n",
            "Requirement already satisfied: tokenizers<0.19,>=0.14 in /usr/local/lib/python3.10/dist-packages (from transformers<4.37.0,>=3.4.0->spacy-transformers) (0.15.2)\n",
            "Requirement already satisfied: safetensors>=0.3.1 in /usr/local/lib/python3.10/dist-packages (from transformers<4.37.0,>=3.4.0->spacy-transformers) (0.4.4)\n",
            "Requirement already satisfied: language-data>=1.2 in /usr/local/lib/python3.10/dist-packages (from langcodes<4.0.0,>=3.2.0->spacy<4.1.0,>=3.5.0->spacy-transformers) (1.2.0)\n",
            "Requirement already satisfied: annotated-types>=0.4.0 in /usr/local/lib/python3.10/dist-packages (from pydantic!=1.8,!=1.8.1,<3.0.0,>=1.7.4->spacy<4.1.0,>=3.5.0->spacy-transformers) (0.7.0)\n",
            "Requirement already satisfied: pydantic-core==2.20.1 in /usr/local/lib/python3.10/dist-packages (from pydantic!=1.8,!=1.8.1,<3.0.0,>=1.7.4->spacy<4.1.0,>=3.5.0->spacy-transformers) (2.20.1)\n",
            "Requirement already satisfied: charset-normalizer<4,>=2 in /usr/local/lib/python3.10/dist-packages (from requests<3.0.0,>=2.13.0->spacy<4.1.0,>=3.5.0->spacy-transformers) (3.3.2)\n",
            "Requirement already satisfied: idna<4,>=2.5 in /usr/local/lib/python3.10/dist-packages (from requests<3.0.0,>=2.13.0->spacy<4.1.0,>=3.5.0->spacy-transformers) (3.7)\n",
            "Requirement already satisfied: urllib3<3,>=1.21.1 in /usr/local/lib/python3.10/dist-packages (from requests<3.0.0,>=2.13.0->spacy<4.1.0,>=3.5.0->spacy-transformers) (2.0.7)\n",
            "Requirement already satisfied: certifi>=2017.4.17 in /usr/local/lib/python3.10/dist-packages (from requests<3.0.0,>=2.13.0->spacy<4.1.0,>=3.5.0->spacy-transformers) (2024.7.4)\n",
            "Requirement already satisfied: blis<0.8.0,>=0.7.8 in /usr/local/lib/python3.10/dist-packages (from thinc<8.3.0,>=8.2.2->spacy<4.1.0,>=3.5.0->spacy-transformers) (0.7.11)\n",
            "Requirement already satisfied: confection<1.0.0,>=0.0.1 in /usr/local/lib/python3.10/dist-packages (from thinc<8.3.0,>=8.2.2->spacy<4.1.0,>=3.5.0->spacy-transformers) (0.1.5)\n",
            "Requirement already satisfied: click>=8.0.0 in /usr/local/lib/python3.10/dist-packages (from typer<1.0.0,>=0.3.0->spacy<4.1.0,>=3.5.0->spacy-transformers) (8.1.7)\n",
            "Requirement already satisfied: shellingham>=1.3.0 in /usr/local/lib/python3.10/dist-packages (from typer<1.0.0,>=0.3.0->spacy<4.1.0,>=3.5.0->spacy-transformers) (1.5.4)\n",
            "Requirement already satisfied: rich>=10.11.0 in /usr/local/lib/python3.10/dist-packages (from typer<1.0.0,>=0.3.0->spacy<4.1.0,>=3.5.0->spacy-transformers) (13.7.1)\n",
            "Requirement already satisfied: cloudpathlib<1.0.0,>=0.7.0 in /usr/local/lib/python3.10/dist-packages (from weasel<0.5.0,>=0.1.0->spacy<4.1.0,>=3.5.0->spacy-transformers) (0.18.1)\n",
            "Requirement already satisfied: smart-open<8.0.0,>=5.2.1 in /usr/local/lib/python3.10/dist-packages (from weasel<0.5.0,>=0.1.0->spacy<4.1.0,>=3.5.0->spacy-transformers) (7.0.4)\n",
            "Requirement already satisfied: MarkupSafe>=2.0 in /usr/local/lib/python3.10/dist-packages (from jinja2->spacy<4.1.0,>=3.5.0->spacy-transformers) (2.1.5)\n",
            "Requirement already satisfied: mpmath<1.4,>=1.1.0 in /usr/local/lib/python3.10/dist-packages (from sympy->torch>=1.8.0->spacy-transformers) (1.3.0)\n",
            "Requirement already satisfied: marisa-trie>=0.7.7 in /usr/local/lib/python3.10/dist-packages (from language-data>=1.2->langcodes<4.0.0,>=3.2.0->spacy<4.1.0,>=3.5.0->spacy-transformers) (1.2.0)\n",
            "Requirement already satisfied: markdown-it-py>=2.2.0 in /usr/local/lib/python3.10/dist-packages (from rich>=10.11.0->typer<1.0.0,>=0.3.0->spacy<4.1.0,>=3.5.0->spacy-transformers) (3.0.0)\n",
            "Requirement already satisfied: pygments<3.0.0,>=2.13.0 in /usr/local/lib/python3.10/dist-packages (from rich>=10.11.0->typer<1.0.0,>=0.3.0->spacy<4.1.0,>=3.5.0->spacy-transformers) (2.16.1)\n",
            "Requirement already satisfied: wrapt in /usr/local/lib/python3.10/dist-packages (from smart-open<8.0.0,>=5.2.1->weasel<0.5.0,>=0.1.0->spacy<4.1.0,>=3.5.0->spacy-transformers) (1.16.0)\n",
            "Requirement already satisfied: mdurl~=0.1 in /usr/local/lib/python3.10/dist-packages (from markdown-it-py>=2.2.0->rich>=10.11.0->typer<1.0.0,>=0.3.0->spacy<4.1.0,>=3.5.0->spacy-transformers) (0.1.2)\n"
          ]
        }
      ]
    },
    {
      "cell_type": "code",
      "execution_count": 2,
      "metadata": {
        "id": "w1CDYh6La8kT"
      },
      "outputs": [],
      "source": [
        "import spacy\n",
        "import numpy as np\n",
        "import os\n",
        "import glob\n",
        "import re\n",
        "from sklearn.model_selection import train_test_split"
      ]
    },
    {
      "cell_type": "markdown",
      "source": [
        "#2) Preparing processing data"
      ],
      "metadata": {
        "id": "eetrt8i95Oor"
      }
    },
    {
      "cell_type": "code",
      "source": [
        "# Mount google drive\n",
        "from google.colab import drive\n",
        "drive.mount('/content/drive')"
      ],
      "metadata": {
        "colab": {
          "base_uri": "https://localhost:8080/",
          "height": 0
        },
        "id": "BFj6_-geb-rg",
        "outputId": "0f7c1d8b-d7ee-480e-93fc-f9a3eeb93822"
      },
      "execution_count": 3,
      "outputs": [
        {
          "output_type": "stream",
          "name": "stdout",
          "text": [
            "Drive already mounted at /content/drive; to attempt to forcibly remount, call drive.mount(\"/content/drive\", force_remount=True).\n"
          ]
        }
      ]
    },
    {
      "cell_type": "code",
      "execution_count": 4,
      "metadata": {
        "id": "WjNYbwA-a8kV"
      },
      "outputs": [],
      "source": [
        "# create a function to process annotation with text data\n",
        "def process_annotation_file(text_file, ann_file):\n",
        "    with open(text_file, 'r', encoding='utf-8') as f:\n",
        "        texts= f.read()\n",
        "\n",
        "    with open(ann_file, 'r', encoding='utf-8') as f:\n",
        "        content = f.readlines()\n",
        "        labels = []\n",
        "        for line in content:\n",
        "            parts = line.strip().split('\\t')\n",
        "            if len(parts) == 3:\n",
        "                _, span_info, _ = parts\n",
        "                label_parts = span_info.split()\n",
        "                tag = label_parts[0]\n",
        "                span_ranges = ' '.join(label_parts[1:])\n",
        "\n",
        "                for span in span_ranges.split(';'):\n",
        "                    start, end = map(int, span.split())\n",
        "                    labels.append((start, end, tag))\n",
        "    return texts, labels\n",
        "\n",
        "# load the joined list of text/annotation\n",
        "def load_data_from_directory(directory):\n",
        "    text_files = glob.glob(os.path.join(directory, '*.txt'))\n",
        "    texts, tags_list = [], []\n",
        "\n",
        "    for text_file in text_files:\n",
        "        ann_file = text_file.replace('.txt', '.ann')\n",
        "        if os.path.exists(ann_file):\n",
        "            file_texts, file_tags = process_annotation_file(text_file, ann_file)\n",
        "\n",
        "            texts.append(file_texts)\n",
        "            tags_list.append(file_tags)\n",
        "        else:\n",
        "            print(f\"Warning: No matching .ann file found for {text_file}\")\n",
        "\n",
        "    return texts, tags_list"
      ]
    },
    {
      "cell_type": "code",
      "execution_count": 5,
      "metadata": {
        "id": "-aaEiNtKa8kV"
      },
      "outputs": [],
      "source": [
        "# Define the data directory\n",
        "data_directory = '/content/drive/MyDrive/Saniia/MACCROBAT2020_Simplified/'"
      ]
    },
    {
      "cell_type": "code",
      "execution_count": 6,
      "metadata": {
        "id": "6uCPPhVoa8kW"
      },
      "outputs": [],
      "source": [
        "# Let's load our data now\n",
        "texts, tags_list = load_data_from_directory(data_directory)"
      ]
    },
    {
      "cell_type": "code",
      "execution_count": 29,
      "metadata": {
        "id": "66nCz4z0a8kW",
        "outputId": "a982b140-8a12-4c3a-d502-1eaee19820a8",
        "colab": {
          "base_uri": "https://localhost:8080/",
          "height": 105
        }
      },
      "outputs": [
        {
          "output_type": "execute_result",
          "data": {
            "text/plain": [
              "'A 76-year-old woman presented to our hospital with complaints of epigastralgia since a day prior to admission.\\nLaboratory data on admission revealed an elevation of aminotransferase, alanine aminotransferase, ɤ-guanosine triphosphate, and alkaline phosphatase.\\nSerum total bilirubin and tumor markers, carcinoembryonic antigen (CEA), carbohydrate antigen 19-9 (CA19-9), SPan-1, and neuron-specific enolase (NSE), were all within normal ranges.\\nAbdominal computed tomography (CT) and magnetic resonance cholangiopancreatography (MRCP) showed a mass in an enlarged gallbladder and bulky hepatic lymph nodes surrounding the hepatic hilum (Fig.1a, \\u200bb).\\nThere were also no apparent lesions in upper and lower gastrointestinal endoscopy.\\nEndoscopic ultrasound-guided fine-needle aspiration (EUS-FNA) was performed to obtain tissue from the hilar lymph node.\\nImmunohistochemical staining of the specimen identified diffuse positivity for keratin, CD56, and synaptophysin in the tumor cells, which is consistent with NEC.\\nAn endoscopic naso-gallbladder drainage (ENGBD) catheter was placed, and the bile cytology revealed class V malignant cells.\\nTherefore, positron emission tomography/computed tomography (PET/CT) examination was performed to evaluate other primary or metastatic lesions.\\nIt revealed that no other accumulated lesions were identified, and the accumulation of 18F fluorodeoxyglucose (FDG) was in the gallbladder (SUVmax 7.8) and lymph nodes (SUVmax 13.4) (Fig.1c, d).\\nOn the basis of these findings, the most likely diagnosis was a gallbladder NEC that was confined to the regional hepatic hilar lymph nodes metastasis.\\nFinally, we decided to perform surgical resection prior to chemotherapy because of concerns about complications developing from mechanical obstruction of the hepatic hilum by the enlarged lymph node.\\nShe underwent cholecystectomy, hepatic hilar lymphadenectomy, extrahepatic biliary duct resection, and hepaticojejunostomy.\\nThe bulky lymph nodes were totally resected as “en bloc”.\\nThere were no apparent residual lesions surgically.\\nThe postoperative course was uneventful and she was discharged on the tenth day after surgery.\\nMacroscopically, the tumor was 58\\u2009×\\u200942 mm in size and was located in the fundus, which contained a yellowish gallstone (Fig.2a).\\nA portion of the hepatic hilar lymph nodes (71\\u2009×\\u200937 mm) was also excised separately (Fig.2b).\\nMicroscopic examination of the gallbladder revealed a moderate to well differentiated tubular adenocarcinoma infiltrating from the mucosa to the muscular layer, but not the serosal surface, without any NEC components (Fig.2c, \\u200bd).\\nThe tumor cells in the gallbladder are slightly positive for synaptophysin and CD56, but negative for chromogranin A (Fig.2e–g).\\nThe resection margin from the liver bed was negative for tumor cells.\\nThe epithelium around the carcinoma showed intestinal metaplasia with the goblet cells (Fig.4a), which area was stained by alcian blue (Fig.4b).\\nOn the other hand, the hepatic hilar lymph nodes were composed of small round tumor cells with hyperchromatic nuclei and scant cytoplasm (Fig.3a).\\nSome of the tumor cells were large and had vesicular nuclei.\\nThe tumor cells were arranged in sheets, cords, or in a trabecular or rosette fashion and were interspersed with focal necrosis.\\nThey were immunohistochemically positive for CD56, synaptophysin, and chromogranin A (Fig.3b–3d).\\nThe mitotic count was 24 per 10 high-power microscopic fields, and the Ki-67 proliferation index was 70–80%, consistent with NEC.\\nThe surgical dissection margin of the hepatic lymph nodes was microscopically cauterized within the tumor cells.\\nThere was no invasion to the extrahepatic biliary duct.\\nAs the result of thorough pathological re-evaluation by total segmentation, a negligible area of adenocarcinoma was detected in the lymph nodes (Fig.3e, \\u200bf).\\nThe adenocarcinoma component and the intestinal metaplastic epithelium in the gallbladder were both positive for CDX2 (Fig.4a), but the neuroendocrine component in hilar lymph nodes was negative for CDX2 (Fig.4b).\\nPostoperatively, the patient received three cycles of carboplatin (area under the curve of 5 on day 1 repeated every 21 days) and etoposide (80 mg/m2 on days 1 through 3 repeated every 21 days).\\nDuring the first course, grade 4 neutropenia occurred and it was managed with prophylactic fluoroquinolones.\\nAfter 4 months, multiple recurrences in the para-aortic lymph nodes were detected, which was pathologically demonstrated via EUS-FNA to be NEC.\\nThe patient underwent second-line chemotherapy with amrubicin (24 mg/m2 on days 1 through 3 repeated every 21 days).\\nGrade 4 neutropenia and anemia developed during the courses, and she needed to receive pegylated granulocyte colony-stimulating factor and red blood cell transfusion.\\nHowever, she died of progressive disease 8 months after surgery.\\n'"
            ],
            "application/vnd.google.colaboratory.intrinsic+json": {
              "type": "string"
            }
          },
          "metadata": {},
          "execution_count": 29
        }
      ],
      "source": [
        "# Just for checking\n",
        "texts[0]"
      ]
    },
    {
      "cell_type": "code",
      "execution_count": 9,
      "metadata": {
        "id": "D9VmYOfqa8kX"
      },
      "outputs": [],
      "source": [
        "# Create the dataset\n",
        "data = []\n",
        "for i in range(len(texts)):\n",
        "  temp_dict = {}\n",
        "  temp_dict['text'] = texts[i]\n",
        "  temp_dict['entities'] = tags_list[i]\n",
        "  data.append(temp_dict)"
      ]
    },
    {
      "cell_type": "code",
      "execution_count": 11,
      "metadata": {
        "id": "TG8QlZoka8kX"
      },
      "outputs": [],
      "source": [
        "# Create train/test dataset\n",
        "train_data, test_data = train_test_split(data, test_size=0.2, random_state=42)"
      ]
    },
    {
      "cell_type": "code",
      "execution_count": 12,
      "metadata": {
        "id": "qWyhs7SBa8kX",
        "outputId": "91916ffd-1e1f-4ca5-bc4f-7e177223855e",
        "colab": {
          "base_uri": "https://localhost:8080/",
          "height": 0
        }
      },
      "outputs": [
        {
          "output_type": "execute_result",
          "data": {
            "text/plain": [
              "[{'text': 'A 62-year-old male presented with a 15-day history of dyspnea on exertion, associated with both lower extremity edema.\\nBefore this admission, he also had suffered from abdominal bloating and tasteless for a year with noticeable body weight loss at the same time (up to 20 kg).\\nOver the past 6 months, he developed a multiple system disorder, which included painless paresthesias in the lower limbs, erectile dysfunction, and chronic diarrhea.\\nHe had an average stool frequency of up to ten times per day, with no obvious blood or mucus and no abdominal pain or tenesmus.\\nUnfortunately, previous stomach and rectum biopsy did not examine for accumulations of amyloid fibril protein.\\nHis family history was unremarkable.\\nOn physical examination, his blood pressure was 82/56 mmHg and heart rate was 52 bpm.\\nSignificant jugular venous distention, moderate hepatomegaly, and lower extremity edema were noted.\\nA neurological examination revealed weakness and muscular atrophy in the bilateral tibialis anterior and gastrocnemius.\\nHyporeflexia was noted on both knees and ankles.\\nSensory examination revealed diminished tactile and pain sensation in a stocking and glove pattern and vibratory sensation was distally reduced in the lower limbs.\\nThe motor and sensory functions of upper extremities were relatively spared.\\nInitial laboratory data that included full blood count, transaminase, creatinine, electrolytes, cardiac troponin, and thyroid function were normal or negative.\\nN-terminal fragment of pro-brain natriuretic peptide (NT-proBNP) was 3,996 pg/mL.\\nNerve conduction studies confirmed bilateral sensory-motor neuropathy (Table 1).\\nAn electromyography study demonstrated active denervation and chronic reinnervation changes in the tibialis anterior and gastrocnemius.\\nElectrocardiogram (ECG) revealed sinus rhythm, low voltages in limb leads, QS waves in precordial and inferior leads, first-degree atrioventricular block, and prolonged QTc (Figure 1).\\nTwo-dimensional echocardiography revealed marked concentrically thickened and speckled appearance of ventricular walls, biatrial dilatation, and left ventricular ejection fraction of 70% (Figure 2).\\nDoppler revealed a severe restrictive mitral filling pattern with E/A ratio 2.1.\\nCoronary angiography findings were normal.\\nThe combined occurrence of low QRS voltage in the ECG, ventricular thickening, and signs of diastolic dysfunction is strongly suggestive of cardiac amyloidosis.\\nThe following serum λ light-chain concentration was 1,763 (normal range: 598–1,329 mg/dL, and κ light-chain concentration was normal.\\nRectum biopsy confirmed amyloid infiltrate (Figure 3).\\nSo, the diagnosis of AL amyloidosis was established.\\nDespite chemotherapy administration of melphalan, dexamethasone, immunomodulator lenalidomide, and supportive therapy including montmorillonite to decrease diarrhea and low-dose furosemide to alleviate fluid retention, the patient continued to deteriorate and died at home after 3 months after the initial diagnosis.\\n',\n",
              "  'entities': [(2, 13, 'Age'),\n",
              "   (14, 18, 'Sex'),\n",
              "   (54, 61, 'Sign_symptom'),\n",
              "   (112, 117, 'Sign_symptom'),\n",
              "   (2929, 2940, 'Sign_symptom'),\n",
              "   (2887, 2902, 'Sign_symptom'),\n",
              "   (2841, 2849, 'Sign_symptom'),\n",
              "   (2653, 2667, 'Disease_disorder'),\n",
              "   (178, 186, 'Sign_symptom'),\n",
              "   (191, 200, 'Sign_symptom'),\n",
              "   (233, 244, 'Sign_symptom'),\n",
              "   (316, 340, 'Disease_disorder'),\n",
              "   (366, 378, 'Sign_symptom'),\n",
              "   (399, 419, 'Disease_disorder'),\n",
              "   (433, 441, 'Sign_symptom'),\n",
              "   (425, 441, 'Disease_disorder'),\n",
              "   (553, 557, 'Sign_symptom'),\n",
              "   (832, 842, 'Sign_symptom'),\n",
              "   (853, 865, 'Sign_symptom'),\n",
              "   (887, 892, 'Sign_symptom'),\n",
              "   (2609, 2619, 'Sign_symptom'),\n",
              "   (1602, 1626, 'Disease_disorder'),\n",
              "   (1684, 1695, 'Sign_symptom'),\n",
              "   (1708, 1729, 'Sign_symptom'),\n",
              "   (2430, 2441, 'Disease_disorder'),\n",
              "   (1905, 1927, 'Sign_symptom'),\n",
              "   (2023, 2032, 'Sign_symptom'),\n",
              "   (2037, 2056, 'Sign_symptom'),\n",
              "   (2088, 2098, 'Sign_symptom'),\n",
              "   (2184, 2218, 'Sign_symptom'),\n",
              "   (2349, 2359, 'Sign_symptom'),\n",
              "   (2374, 2395, 'Sign_symptom'),\n",
              "   (941, 949, 'Sign_symptom'),\n",
              "   (963, 970, 'Sign_symptom'),\n",
              "   (1025, 1037, 'Sign_symptom'),\n",
              "   (561, 569, 'Sign_symptom')]},\n",
              " {'text': 'A 19-year-old man presented at the emergency department, 12 h after insertion of a high pressure container with tanning spray into his rectum.\\nA plain abdominal radiograph (Figure 1) showed the container in the rectosigmoid region.\\nThere were no signs of perforation.\\nA flexible sigmoidoscopy was performed under conscious sedation.\\nThe object was located just above the rectosigmoid junction.\\nThe container could not be extracted by bimanual manipulation.\\nAn attempt to remove the object with conventional endoscopic instruments, such as polypectomy snares, was unsuccessful.\\nThe sigmoidoscope could be passed alongside the foreign body to its proximal end.\\nA guide wire was left behind with the sigmoidoscope removed.\\nSubsequently, a 40 mm pneumatic dilatation balloon (Rigiflex®, Boston Scientific), normally used in achalasia patients, was inserted over the guide wire and inflated just above the container (Figure 2).\\nFor safety purposes, the sigmoidoscope was reintroduced alongside the catheter of the balloon to allow endoscopic visual control of the distal end of the container in the rectum.\\nGentle traction was exerted on the balloon catheter, and the container was successfully removed under fluoroscopic and endoscopic control (Figure \\u200b3).\\n',\n",
              "  'entities': [(2, 13, 'Age'),\n",
              "   (14, 17, 'Sex'),\n",
              "   (255, 266, 'Disease_disorder'),\n",
              "   (194, 203, 'Sign_symptom'),\n",
              "   (337, 343, 'Sign_symptom')]},\n",
              " {'text': \"A 76-year-old Japanese man had experienced a decreased appetite, nausea, and abdominal distension since late February 2011.\\nThe patient passed loose, soft stools that were not watery once daily.\\nThe results of blood tests performed by the primary care physician (PCP) between April and June were all normal, but upper and lower gastrointestinal endoscopy showed atrophic gastritis.\\nTherefore, we assessed the patient for Helicobacter pylori antibodies and performed the rapid urease test and a histopathological evaluation, all of which were negative.\\nIn June, the patient received medication from a mental health clinic, but because the symptoms did not improve and his body weight further decreased by 23 kg, he stopped the medication; he was referred to our department in November.\\nThe patient had been suffering from hypertension since his 30s.\\nAmlodipine (5 mg/day) administration was initiated in 2005, and olmesartan from May 2008; the patient is currently receiving 30 mg/day of olmesartan.\\nHe denied the use of any other new medications or nonsteroidal anti-inflammatory drugs.\\nHe had no history of smoking or alcohol consumption.\\nPhysical examination showed that the patient had a height of 165 cm, a body weight of 47 kg, and body mass index of 17 kg/m2.\\nHis body temperature was 36.3℃; pulse rate, 101/min; blood pressure, 101/81 mmHg; respiratory rate, 12 breaths/min; and saturation from pulse oximetry (SpO2) was 98%.\\nThe patient had no heart murmur, third heart sound or jugular venous distension.\\nThe patient had bilateral pitting edema on his lower legs and presented with unilateral gaze-evoked nystagmus as well as a mildly reduced tactile sensation and thermal nociception in the toes and dorsal regions of both feet.\\nMoreover, the finger-to-nose test results and tandem gait were poor, and his patellar and Achilles tendon reflexes had disappeared.\\nConfabulation was observed in the patient, and the revised Hasegawa Dementia Scale (HDS-R) score was 17/30 (cut-off point: 20).\\nThe hematologic findings were as follows: white blood cell count, 6,200 /μL; hemoglobin level, 12.5 g/dL; mean corpuscular volume, 88.4; platelet count, 230,000 /μL; sodium level, 136 mEq/L; potassium level, 3.8 mEq/L; chlorine level, 103 mEq/L; iron level, 57 μg/dL (reference value: 64-187 μg/dL); ferritin level, 366 ng/mL (reference value: 50-200 ng/mL); B-type natriuretic peptide (BNP) level, 125.3 pg/mL (reference value: -18.4 pg/mL); and vitamin B1 level, 8 ng/mL (reference value: 24-66 ng/mL).\\nAn electrocardiogram was normal and chest X-rays showed a normal cardiothoracic ratio (40.8%) without either pulmonary congestion or pleural effusion.\\nCranial fluid-attenuated inversion recovery-magnetic resonance imaging findings revealed periaqueductal hyperintensities (Fig.1); therefore, Wernicke encephalopathy was diagnosed.\\nMoreover, as sinus tachycardia and a tendency towards hypotension were noted, no clear symptoms of heart failure or dehydration were observed; it was thus inferred that the vitamin B1 deficiency had likely played a role in both of the conditions.\\nThe antihypertensive agents were discontinued, and 10 days after the intravenous administration of vitamin B1, the patient's loss of appetite, nausea, and gait disturbance disappeared, and his body weight increased by 3 kg.\\nNystagmus was ameliorated on physical examination, but the patient still had confabulations, and the HDS-R score and absence of deep tendon reflexes did not improve.\\nSince the gastrointestinal symptoms were ameliorated and his blood pressure increased to 160/90 mmHg, the PCP resumed the administration of olmesartan on late December, 2011.\\nOne week later, the patient complained of recurrent decreased appetite and nausea.\\nAfter experiencing diarrhea (five bowel movements during a 2-day period), he passed soft stools once daily, and his body weight decreased to 47 kg so he came to our hospital again 3 weeks after the resumption of olmesartan for treatment.\\nHis vital signs were as follows: body temperature, 35.1℃; pulse rate, 93/min; and blood pressure, 132/75 mmHg.\\nThe neurologic findings showed no worsening of his symptoms.\\nThe laboratory findings were as follows: sodium level, 139 mEq/L; potassium level, 2.9 mEq/L; and chlorine level, 116 mEq/L.\\nHyperchloremia was noted, and the serum sodium level minus chloride level (139-116) was 23 mEq/L; additionally, the arterial blood gas findings were as follows: pH, 7.25; PCO2, 25 mmHg, and HCO3, 11 mmol/L.\\nThe urinalysis findings were as follows: sodium level, 15 mEq/L; potassium level, 13 mEq/L; chlorine level, 100 mEq/L; and urine anion gap, -72 mEq/L, and there was no apparent increase in bowel movements; however, this seemed to be due to the absence of HCO3- from the gastrointestinal tract (6).\\nPlain abdominal radiography and abdominal computed tomography findings revealed the continuous dilation of the entire intestinal tract (Fig.2); therefore, the patient was diagnosed with intestinal pseudo-obstruction.\\nAfter discontinuing olmesartan, the nausea and body weight decreases were promptly ameliorated.\\nDuodenal biopsy findings after discontinuing olmesartan showed that the inflammation observed before discontinuation as well as the fold structure had both clearly ameliorated (Fig.3).\\n\",\n",
              "  'entities': [(2, 13, 'Age'),\n",
              "   (23, 26, 'Sex'),\n",
              "   (45, 63, 'Sign_symptom'),\n",
              "   (65, 71, 'Sign_symptom'),\n",
              "   (87, 97, 'Sign_symptom'),\n",
              "   (371, 380, 'Disease_disorder'),\n",
              "   (638, 646, 'Sign_symptom'),\n",
              "   (1452, 1464, 'Sign_symptom'),\n",
              "   (1466, 1483, 'Sign_symptom'),\n",
              "   (1502, 1512, 'Sign_symptom'),\n",
              "   (1548, 1553, 'Sign_symptom'),\n",
              "   (1614, 1623, 'Sign_symptom'),\n",
              "   (1644, 1669, 'Sign_symptom'),\n",
              "   (1682, 1693, 'Sign_symptom'),\n",
              "   (1871, 1884, 'Sign_symptom'),\n",
              "   (2613, 2633, 'Sign_symptom'),\n",
              "   (2637, 2653, 'Disease_disorder'),\n",
              "   (2759, 2775, 'Sign_symptom'),\n",
              "   (2796, 2819, 'Disease_disorder'),\n",
              "   (2854, 2865, 'Sign_symptom'),\n",
              "   (2889, 2900, 'Sign_symptom'),\n",
              "   (2934, 2947, 'Disease_disorder'),\n",
              "   (2951, 2962, 'Sign_symptom'),\n",
              "   (3008, 3029, 'Disease_disorder'),\n",
              "   (3207, 3223, 'Sign_symptom'),\n",
              "   (3225, 3231, 'Sign_symptom'),\n",
              "   (3237, 3253, 'Sign_symptom'),\n",
              "   (3306, 3315, 'Sign_symptom'),\n",
              "   (3383, 3397, 'Sign_symptom'),\n",
              "   (3482, 3507, 'Sign_symptom'),\n",
              "   (3699, 3717, 'Sign_symptom'),\n",
              "   (3722, 3728, 'Sign_symptom'),\n",
              "   (3749, 3757, 'Sign_symptom'),\n",
              "   (4265, 4279, 'Sign_symptom'),\n",
              "   (4716, 4732, 'Sign_symptom'),\n",
              "   (4956, 4985, 'Disease_disorder'),\n",
              "   (4865, 4873, 'Sign_symptom'),\n",
              "   (5023, 5029, 'Sign_symptom'),\n",
              "   (5034, 5055, 'Sign_symptom'),\n",
              "   (5155, 5167, 'Sign_symptom'),\n",
              "   (5215, 5229, 'Sign_symptom')]},\n",
              " {'text': 'An 84-year-old male patient with a history of coronary artery disease and right coronary artery (RCA) stenting was admitted to our university hospital in February 2012 because of progressive dyspnoea and recurring syncopes.\\nCardiological work-up revealed a grade III severe symptomatic aortic stenosis.\\nDue to relevant comorbidities (logistic EuroSCORE of 19 points) and severe femoral arteriopathy, he was scheduled for trans-subclavian TAVI.\\nAfter successful implantation of a CoreValve prosthesis (Medtronic) [Medtronic World Headquarters Medtronic Parkway Minneapolis, Minnesota, USA] (diameter 31 mm) and initial discharge, he was referred back to the hospital because of dyspnoea due to bilateral pleural effusions.\\nTransoesophageal echocardiography (TEE) showed a severe mitral regurgitation (MR), which was subsequently treated by interventional mitral valve repair using the MitraClip (Abbott Vascular, Abbott Laboratories, Abbott Park, Illinois, U.S.A.) and procedurally dependent atrial septal defect (ASD) closure AMPLATZER™ PFO Occluder (St.\\nJude Medical GmbH, Helfmann-Park 7, Eschborn, Germany).\\nTwo weeks after secondary discharge, the patient developed progressive heart failure in combination with acute renal failure.\\nImmediate echocardiography revealed a moderate-to-severe aortic regurgitation and recurrent severe MR.\\nValvular defects resulted from a slight but significant aortic valve prosthesis migration towards the left ventricular outflow tract, which had caused aortic paravalvular leakage and partial posterior mitral leaflet detachment (Fig.1).\\nAs a consequence of these findings, the patient was transferred to our cardiac surgery department.\\nPreoperative coronary angiography revealed a progression of the coronary artery disease.\\nConsequently the patient was scheduled for conventional aortic and mitral valve replacement, as well as coronary artery bypass surgery.\\nThe operation was performed via median sternotomy.\\nOn initialization of cardiopulmonary bypass, the ascending aorta was opened for exploration of the aortic valve (Fig.2A).\\nAfter careful removal of the CoreValve prosthesis, an Edwards Perimount aortic valve prosthesis (diameter 25 mm) was implanted.\\nAfter vein-grafting of the circumflex coronary artery, the mitral valve was explored via the left atrium and excised with the attached clip.\\nThereafter, an Edwards Perimount mitral valve prosthesis (diameter 31 mm) was implanted.\\nMore recently, the atrial septal occluder was removed prior to direct closure of the resulting septal defect with a single-suture line (Fig.2B).\\nIntraoperative echocardiography revealed adequate function of both prostheses and the operation was completed in the usual manner.\\nDuring the postoperative phase, the patient recovered well from surgery although hospitalization was prolonged by transient renal failure and recurring pleural effusions.\\nAfter a month of postoperative care, the patient was discharged from hospital to rehabilitation in a good condition, without signs for heart failure.\\nAt follow-up three months after surgery, the patient was still in a cardiopulmonary stable condition, undergoing additional physiotherapy.\\n',\n",
              "  'entities': [(3, 14, 'Age'),\n",
              "   (15, 19, 'Sex'),\n",
              "   (191, 199, 'Sign_symptom'),\n",
              "   (214, 222, 'Sign_symptom'),\n",
              "   (286, 301, 'Disease_disorder'),\n",
              "   (386, 398, 'Disease_disorder'),\n",
              "   (677, 685, 'Sign_symptom'),\n",
              "   (703, 720, 'Disease_disorder'),\n",
              "   (778, 798, 'Sign_symptom'),\n",
              "   (800, 802, 'Sign_symptom'),\n",
              "   (1182, 1195, 'Disease_disorder'),\n",
              "   (1222, 1235, 'Disease_disorder'),\n",
              "   (1336, 1338, 'Sign_symptom'),\n",
              "   (1294, 1314, 'Sign_symptom'),\n",
              "   (1340, 1356, 'Sign_symptom'),\n",
              "   (1396, 1429, 'Sign_symptom'),\n",
              "   (1491, 1518, 'Sign_symptom'),\n",
              "   (1541, 1566, 'Sign_symptom'),\n",
              "   (1739, 1762, 'Disease_disorder'),\n",
              "   (3003, 3026, 'Sign_symptom'),\n",
              "   (2751, 2760, 'Sign_symptom'),\n",
              "   (2831, 2844, 'Disease_disorder'),\n",
              "   (2859, 2876, 'Disease_disorder'),\n",
              "   (2526, 2539, 'Sign_symptom')]},\n",
              " {'text': 'A 73-year-old woman was initially referred 19 months prior to the current presentation, at which time fluorescein and indocyanine green angiography showed a medium-sized subfoveal classic CNV in the left eye, which had not been previously treated.\\nShe did not return for treatment until the current presentation, when she noted decreased vision in the left eye.\\nThe best-corrected visual acuity (BCVA) was 20/100.\\nSlit lamp examination showed a small yellowish patch in the perifoveal region and retinal edema.\\nStructural OCT revealed the retinal elevation, subretinal fluid and a hyper-reflective elongated area above RPE indicating type II CNV.\\nAnti-angiogenic treatment with intravitreal aflibercept injections were administered with a treat-and-extend regimen.\\nOCT angiograms (Fig.1) showed noticeable reduction in CNV flow area by 1–2 days post injection, with continued reduction at 1 week and 2 weeks.\\nCNV flow area and vessel density were reduced, probably due to the decreased flow or temporary closure of the smaller anastomoses.\\nSignificant re-appearance of CNV was noticeable at 4 weeks after the first injection and again at 6 weeks after the second injection.\\nThe vascular pattern of the re-enlarged CNV (Fig.1A) was very similar to the initial pretreatment CNV, suggesting that the recurrence may be reopening of original channels rather than growth of new vessels.\\nComparing the CNV network prior to the 3rd injection to the baseline, it is notable that there were fewer smaller channels, while the larger caliber channels remained.\\nQuantitative measurements from OCT angiography (Fig.2A) showed reduction in CNV flow area and flow index over the first 2 weeks with subsequent return.\\nRetinal thickness (Fig.2B) showed the fluid resorption over the first 4 weeks in the first treatment cycle continuing at least 2 weeks into the second treatment cycle, at which time no fluid remained (Fig.1B).\\nBut fluid re-accumulated under the retina 6 weeks after the 2nd injection.\\nVisual acuity (Fig.2B) continued to improve over the 3 treatment cycles.\\n',\n",
              "  'entities': [(2, 13, 'Age'),\n",
              "   (14, 19, 'Sex'),\n",
              "   (188, 191, 'Disease_disorder'),\n",
              "   (328, 344, 'Sign_symptom'),\n",
              "   (461, 466, 'Sign_symptom'),\n",
              "   (496, 509, 'Sign_symptom'),\n",
              "   (539, 556, 'Sign_symptom'),\n",
              "   (558, 574, 'Sign_symptom'),\n",
              "   (598, 612, 'Sign_symptom'),\n",
              "   (642, 645, 'Disease_disorder'),\n",
              "   (1069, 1072, 'Disease_disorder'),\n",
              "   (1214, 1217, 'Disease_disorder'),\n",
              "   (1915, 1935, 'Sign_symptom'),\n",
              "   (1701, 1718, 'Sign_symptom')]}]"
            ]
          },
          "metadata": {},
          "execution_count": 12
        }
      ],
      "source": [
        "# Just for checking\n",
        "train_data[:5]"
      ]
    },
    {
      "cell_type": "markdown",
      "source": [
        "# 3) Modeling"
      ],
      "metadata": {
        "id": "Hw75eePv7irn"
      }
    },
    {
      "cell_type": "code",
      "execution_count": 13,
      "metadata": {
        "id": "_rf6wp5la8kY",
        "colab": {
          "base_uri": "https://localhost:8080/",
          "height": 0
        },
        "outputId": "03ed677e-b8dc-4b20-9409-b0895e944326"
      },
      "outputs": [
        {
          "output_type": "stream",
          "name": "stderr",
          "text": [
            "/usr/local/lib/python3.10/dist-packages/transformers/utils/generic.py:441: UserWarning: torch.utils._pytree._register_pytree_node is deprecated. Please use torch.utils._pytree.register_pytree_node instead.\n",
            "  _torch_pytree._register_pytree_node(\n",
            "/usr/local/lib/python3.10/dist-packages/transformers/utils/generic.py:309: UserWarning: torch.utils._pytree._register_pytree_node is deprecated. Please use torch.utils._pytree.register_pytree_node instead.\n",
            "  _torch_pytree._register_pytree_node(\n"
          ]
        }
      ],
      "source": [
        "from spacy.tokens import DocBin\n",
        "from tqdm import tqdm\n",
        "\n",
        "nlp = spacy.blank(\"en\") # load a spacy model\n",
        "doc_bin = DocBin()"
      ]
    },
    {
      "cell_type": "code",
      "execution_count": 24,
      "metadata": {
        "id": "d18Jn2sga8kY",
        "outputId": "cc3a0da4-803b-4220-c90c-74babada174b",
        "colab": {
          "base_uri": "https://localhost:8080/",
          "height": 0
        }
      },
      "outputs": [
        {
          "output_type": "stream",
          "name": "stderr",
          "text": [
            " 29%|██▉       | 46/160 [00:00<00:00, 213.90it/s]"
          ]
        },
        {
          "output_type": "stream",
          "name": "stdout",
          "text": [
            "Skipping entity\n",
            "Skipping entity\n",
            "Skipping entity\n",
            "Skipping entity\n"
          ]
        },
        {
          "output_type": "stream",
          "name": "stderr",
          "text": [
            " 56%|█████▌    | 89/160 [00:00<00:00, 193.56it/s]"
          ]
        },
        {
          "output_type": "stream",
          "name": "stdout",
          "text": [
            "Skipping entity\n",
            "Skipping entity\n"
          ]
        },
        {
          "output_type": "stream",
          "name": "stderr",
          "text": [
            "100%|██████████| 160/160 [00:00<00:00, 204.42it/s]"
          ]
        },
        {
          "output_type": "stream",
          "name": "stdout",
          "text": [
            "Skipping entity\n",
            "Skipping entity\n",
            "Skipping entity\n"
          ]
        },
        {
          "output_type": "stream",
          "name": "stderr",
          "text": [
            "\n"
          ]
        }
      ],
      "source": [
        "# Create train.spacy file\n",
        "\n",
        "from spacy.util import filter_spans\n",
        "\n",
        "for training_example  in tqdm(train_data):\n",
        "    text = training_example['text']\n",
        "    labels = training_example['entities']\n",
        "    doc = nlp.make_doc(text)\n",
        "    ents = []\n",
        "    for start, end, label in labels:\n",
        "        span = doc.char_span(start, end, label=label, alignment_mode=\"contract\")\n",
        "        if span is None:\n",
        "            print(\"Skipping entity\")\n",
        "        else:\n",
        "            ents.append(span)\n",
        "    filtered_ents = filter_spans(ents)\n",
        "    doc.ents = filtered_ents\n",
        "    doc_bin.add(doc)\n",
        "\n",
        "doc_bin.to_disk(\"train.spacy\")"
      ]
    },
    {
      "cell_type": "code",
      "execution_count": 15,
      "metadata": {
        "id": "OOxmuKeJa8kY",
        "outputId": "50f28cdd-3320-4543-9b22-2d545b677545",
        "colab": {
          "base_uri": "https://localhost:8080/",
          "height": 0
        }
      },
      "outputs": [
        {
          "output_type": "stream",
          "name": "stdout",
          "text": [
            "Collecting en-core-web-lg==3.7.1\n",
            "  Downloading https://github.com/explosion/spacy-models/releases/download/en_core_web_lg-3.7.1/en_core_web_lg-3.7.1-py3-none-any.whl (587.7 MB)\n",
            "\u001b[2K     \u001b[90m━━━━━━━━━━━━━━━━━━━━━━━━━━━━━━━━━━━━━━━━\u001b[0m \u001b[32m587.7/587.7 MB\u001b[0m \u001b[31m43.8 MB/s\u001b[0m eta \u001b[36m0:00:00\u001b[0m\n",
            "\u001b[?25hRequirement already satisfied: spacy<3.8.0,>=3.7.2 in /usr/local/lib/python3.10/dist-packages (from en-core-web-lg==3.7.1) (3.7.5)\n",
            "Requirement already satisfied: spacy-legacy<3.1.0,>=3.0.11 in /usr/local/lib/python3.10/dist-packages (from spacy<3.8.0,>=3.7.2->en-core-web-lg==3.7.1) (3.0.12)\n",
            "Requirement already satisfied: spacy-loggers<2.0.0,>=1.0.0 in /usr/local/lib/python3.10/dist-packages (from spacy<3.8.0,>=3.7.2->en-core-web-lg==3.7.1) (1.0.5)\n",
            "Requirement already satisfied: murmurhash<1.1.0,>=0.28.0 in /usr/local/lib/python3.10/dist-packages (from spacy<3.8.0,>=3.7.2->en-core-web-lg==3.7.1) (1.0.10)\n",
            "Requirement already satisfied: cymem<2.1.0,>=2.0.2 in /usr/local/lib/python3.10/dist-packages (from spacy<3.8.0,>=3.7.2->en-core-web-lg==3.7.1) (2.0.8)\n",
            "Requirement already satisfied: preshed<3.1.0,>=3.0.2 in /usr/local/lib/python3.10/dist-packages (from spacy<3.8.0,>=3.7.2->en-core-web-lg==3.7.1) (3.0.9)\n",
            "Requirement already satisfied: thinc<8.3.0,>=8.2.2 in /usr/local/lib/python3.10/dist-packages (from spacy<3.8.0,>=3.7.2->en-core-web-lg==3.7.1) (8.2.5)\n",
            "Requirement already satisfied: wasabi<1.2.0,>=0.9.1 in /usr/local/lib/python3.10/dist-packages (from spacy<3.8.0,>=3.7.2->en-core-web-lg==3.7.1) (1.1.3)\n",
            "Requirement already satisfied: srsly<3.0.0,>=2.4.3 in /usr/local/lib/python3.10/dist-packages (from spacy<3.8.0,>=3.7.2->en-core-web-lg==3.7.1) (2.4.8)\n",
            "Requirement already satisfied: catalogue<2.1.0,>=2.0.6 in /usr/local/lib/python3.10/dist-packages (from spacy<3.8.0,>=3.7.2->en-core-web-lg==3.7.1) (2.0.10)\n",
            "Requirement already satisfied: weasel<0.5.0,>=0.1.0 in /usr/local/lib/python3.10/dist-packages (from spacy<3.8.0,>=3.7.2->en-core-web-lg==3.7.1) (0.4.1)\n",
            "Requirement already satisfied: typer<1.0.0,>=0.3.0 in /usr/local/lib/python3.10/dist-packages (from spacy<3.8.0,>=3.7.2->en-core-web-lg==3.7.1) (0.12.3)\n",
            "Requirement already satisfied: tqdm<5.0.0,>=4.38.0 in /usr/local/lib/python3.10/dist-packages (from spacy<3.8.0,>=3.7.2->en-core-web-lg==3.7.1) (4.66.5)\n",
            "Requirement already satisfied: requests<3.0.0,>=2.13.0 in /usr/local/lib/python3.10/dist-packages (from spacy<3.8.0,>=3.7.2->en-core-web-lg==3.7.1) (2.32.3)\n",
            "Requirement already satisfied: pydantic!=1.8,!=1.8.1,<3.0.0,>=1.7.4 in /usr/local/lib/python3.10/dist-packages (from spacy<3.8.0,>=3.7.2->en-core-web-lg==3.7.1) (2.8.2)\n",
            "Requirement already satisfied: jinja2 in /usr/local/lib/python3.10/dist-packages (from spacy<3.8.0,>=3.7.2->en-core-web-lg==3.7.1) (3.1.4)\n",
            "Requirement already satisfied: setuptools in /usr/local/lib/python3.10/dist-packages (from spacy<3.8.0,>=3.7.2->en-core-web-lg==3.7.1) (72.2.0)\n",
            "Requirement already satisfied: packaging>=20.0 in /usr/local/lib/python3.10/dist-packages (from spacy<3.8.0,>=3.7.2->en-core-web-lg==3.7.1) (24.1)\n",
            "Requirement already satisfied: langcodes<4.0.0,>=3.2.0 in /usr/local/lib/python3.10/dist-packages (from spacy<3.8.0,>=3.7.2->en-core-web-lg==3.7.1) (3.4.0)\n",
            "Requirement already satisfied: numpy>=1.19.0 in /usr/local/lib/python3.10/dist-packages (from spacy<3.8.0,>=3.7.2->en-core-web-lg==3.7.1) (1.26.4)\n",
            "Requirement already satisfied: language-data>=1.2 in /usr/local/lib/python3.10/dist-packages (from langcodes<4.0.0,>=3.2.0->spacy<3.8.0,>=3.7.2->en-core-web-lg==3.7.1) (1.2.0)\n",
            "Requirement already satisfied: annotated-types>=0.4.0 in /usr/local/lib/python3.10/dist-packages (from pydantic!=1.8,!=1.8.1,<3.0.0,>=1.7.4->spacy<3.8.0,>=3.7.2->en-core-web-lg==3.7.1) (0.7.0)\n",
            "Requirement already satisfied: pydantic-core==2.20.1 in /usr/local/lib/python3.10/dist-packages (from pydantic!=1.8,!=1.8.1,<3.0.0,>=1.7.4->spacy<3.8.0,>=3.7.2->en-core-web-lg==3.7.1) (2.20.1)\n",
            "Requirement already satisfied: typing-extensions>=4.6.1 in /usr/local/lib/python3.10/dist-packages (from pydantic!=1.8,!=1.8.1,<3.0.0,>=1.7.4->spacy<3.8.0,>=3.7.2->en-core-web-lg==3.7.1) (4.12.2)\n",
            "Requirement already satisfied: charset-normalizer<4,>=2 in /usr/local/lib/python3.10/dist-packages (from requests<3.0.0,>=2.13.0->spacy<3.8.0,>=3.7.2->en-core-web-lg==3.7.1) (3.3.2)\n",
            "Requirement already satisfied: idna<4,>=2.5 in /usr/local/lib/python3.10/dist-packages (from requests<3.0.0,>=2.13.0->spacy<3.8.0,>=3.7.2->en-core-web-lg==3.7.1) (3.7)\n",
            "Requirement already satisfied: urllib3<3,>=1.21.1 in /usr/local/lib/python3.10/dist-packages (from requests<3.0.0,>=2.13.0->spacy<3.8.0,>=3.7.2->en-core-web-lg==3.7.1) (2.0.7)\n",
            "Requirement already satisfied: certifi>=2017.4.17 in /usr/local/lib/python3.10/dist-packages (from requests<3.0.0,>=2.13.0->spacy<3.8.0,>=3.7.2->en-core-web-lg==3.7.1) (2024.7.4)\n",
            "Requirement already satisfied: blis<0.8.0,>=0.7.8 in /usr/local/lib/python3.10/dist-packages (from thinc<8.3.0,>=8.2.2->spacy<3.8.0,>=3.7.2->en-core-web-lg==3.7.1) (0.7.11)\n",
            "Requirement already satisfied: confection<1.0.0,>=0.0.1 in /usr/local/lib/python3.10/dist-packages (from thinc<8.3.0,>=8.2.2->spacy<3.8.0,>=3.7.2->en-core-web-lg==3.7.1) (0.1.5)\n",
            "Requirement already satisfied: click>=8.0.0 in /usr/local/lib/python3.10/dist-packages (from typer<1.0.0,>=0.3.0->spacy<3.8.0,>=3.7.2->en-core-web-lg==3.7.1) (8.1.7)\n",
            "Requirement already satisfied: shellingham>=1.3.0 in /usr/local/lib/python3.10/dist-packages (from typer<1.0.0,>=0.3.0->spacy<3.8.0,>=3.7.2->en-core-web-lg==3.7.1) (1.5.4)\n",
            "Requirement already satisfied: rich>=10.11.0 in /usr/local/lib/python3.10/dist-packages (from typer<1.0.0,>=0.3.0->spacy<3.8.0,>=3.7.2->en-core-web-lg==3.7.1) (13.7.1)\n",
            "Requirement already satisfied: cloudpathlib<1.0.0,>=0.7.0 in /usr/local/lib/python3.10/dist-packages (from weasel<0.5.0,>=0.1.0->spacy<3.8.0,>=3.7.2->en-core-web-lg==3.7.1) (0.18.1)\n",
            "Requirement already satisfied: smart-open<8.0.0,>=5.2.1 in /usr/local/lib/python3.10/dist-packages (from weasel<0.5.0,>=0.1.0->spacy<3.8.0,>=3.7.2->en-core-web-lg==3.7.1) (7.0.4)\n",
            "Requirement already satisfied: MarkupSafe>=2.0 in /usr/local/lib/python3.10/dist-packages (from jinja2->spacy<3.8.0,>=3.7.2->en-core-web-lg==3.7.1) (2.1.5)\n",
            "Requirement already satisfied: marisa-trie>=0.7.7 in /usr/local/lib/python3.10/dist-packages (from language-data>=1.2->langcodes<4.0.0,>=3.2.0->spacy<3.8.0,>=3.7.2->en-core-web-lg==3.7.1) (1.2.0)\n",
            "Requirement already satisfied: markdown-it-py>=2.2.0 in /usr/local/lib/python3.10/dist-packages (from rich>=10.11.0->typer<1.0.0,>=0.3.0->spacy<3.8.0,>=3.7.2->en-core-web-lg==3.7.1) (3.0.0)\n",
            "Requirement already satisfied: pygments<3.0.0,>=2.13.0 in /usr/local/lib/python3.10/dist-packages (from rich>=10.11.0->typer<1.0.0,>=0.3.0->spacy<3.8.0,>=3.7.2->en-core-web-lg==3.7.1) (2.16.1)\n",
            "Requirement already satisfied: wrapt in /usr/local/lib/python3.10/dist-packages (from smart-open<8.0.0,>=5.2.1->weasel<0.5.0,>=0.1.0->spacy<3.8.0,>=3.7.2->en-core-web-lg==3.7.1) (1.16.0)\n",
            "Requirement already satisfied: mdurl~=0.1 in /usr/local/lib/python3.10/dist-packages (from markdown-it-py>=2.2.0->rich>=10.11.0->typer<1.0.0,>=0.3.0->spacy<3.8.0,>=3.7.2->en-core-web-lg==3.7.1) (0.1.2)\n",
            "\u001b[38;5;2m✔ Download and installation successful\u001b[0m\n",
            "You can now load the package via spacy.load('en_core_web_lg')\n",
            "\u001b[38;5;3m⚠ Restart to reload dependencies\u001b[0m\n",
            "If you are in a Jupyter or Colab notebook, you may need to restart Python in\n",
            "order to load all the package's dependencies. You can do this by selecting the\n",
            "'Restart kernel' or 'Restart runtime' option.\n"
          ]
        }
      ],
      "source": [
        "# Download pretrained model\n",
        "!python -m spacy download en_core_web_lg"
      ]
    },
    {
      "cell_type": "code",
      "execution_count": 16,
      "metadata": {
        "id": "eZ61vGr2a8kZ",
        "outputId": "eb0ba273-e274-41f6-97fa-81c239144f8d",
        "colab": {
          "base_uri": "https://localhost:8080/",
          "height": 0
        }
      },
      "outputs": [
        {
          "output_type": "stream",
          "name": "stdout",
          "text": [
            "\u001b[1m                                                                                                    \u001b[0m\n",
            "\u001b[1m \u001b[0m\u001b[1;33mUsage: \u001b[0m\u001b[1mpython \u001b[0m\u001b[1;32m-m\u001b[0m\u001b[1m spacy init fill-config [OPTIONS] BASE_PATH [OUTPUT_FILE]\u001b[0m\u001b[1m                         \u001b[0m\u001b[1m \u001b[0m\n",
            "\u001b[1m                                                                                                    \u001b[0m\n",
            " Fill partial config file with default values. Will add all missing settings from the default       \n",
            " config and will create all objects, check the registered functions for their default values and    \n",
            " update the base config. This command can be used with a config generated via the training          \n",
            " quickstart widget: https://spacy.io/usage/training#quickstart                                      \n",
            " \u001b[2mDOCS: https://spacy.io/api/cli#init-fill-config\u001b[0m                                                    \n",
            "                                                                                                    \n",
            "\u001b[2m╭─\u001b[0m\u001b[2m Arguments \u001b[0m\u001b[2m─────────────────────────────────────────────────────────────────────────────────────\u001b[0m\u001b[2m─╮\u001b[0m\n",
            "\u001b[2m│\u001b[0m \u001b[31m*\u001b[0m    base_path        \u001b[1;33mFILE         \u001b[0m  Path to base config to fill \u001b[2m[default: None]\u001b[0m \u001b[2;31m[required]\u001b[0m      \u001b[2m│\u001b[0m\n",
            "\u001b[2m│\u001b[0m      output_file      \u001b[1;2;33m[\u001b[0m\u001b[1;33mOUTPUT_FILE\u001b[0m\u001b[1;2;33m]\u001b[0m  Path to output .cfg file (or - for stdout) \u001b[2m[default: -]\u001b[0m     \u001b[2m│\u001b[0m\n",
            "\u001b[2m╰──────────────────────────────────────────────────────────────────────────────────────────────────╯\u001b[0m\n",
            "\u001b[2m╭─\u001b[0m\u001b[2m Options \u001b[0m\u001b[2m───────────────────────────────────────────────────────────────────────────────────────\u001b[0m\u001b[2m─╮\u001b[0m\n",
            "\u001b[2m│\u001b[0m \u001b[1;36m-\u001b[0m\u001b[1;36m-pretraining\u001b[0m       \u001b[1;32m-pt\u001b[0m      \u001b[1;33m    \u001b[0m  Include config for pretraining (with 'spacy pretrain')        \u001b[2m│\u001b[0m\n",
            "\u001b[2m│\u001b[0m \u001b[1;36m-\u001b[0m\u001b[1;36m-diff\u001b[0m              \u001b[1;32m-D\u001b[0m       \u001b[1;33m    \u001b[0m  Print a visual diff highlighting the changes                  \u001b[2m│\u001b[0m\n",
            "\u001b[2m│\u001b[0m \u001b[1;36m-\u001b[0m\u001b[1;36m-code\u001b[0m\u001b[1;36m-path\u001b[0m,\u001b[1;36m-\u001b[0m\u001b[1;36m-code\u001b[0m  \u001b[1;32m-c\u001b[0m       \u001b[1;33mPATH\u001b[0m  Path to Python file with additional code (registered          \u001b[2m│\u001b[0m\n",
            "\u001b[2m│\u001b[0m                                    functions) to be imported                                     \u001b[2m│\u001b[0m\n",
            "\u001b[2m│\u001b[0m                                    \u001b[2m[default: None]                                              \u001b[0m \u001b[2m│\u001b[0m\n",
            "\u001b[2m│\u001b[0m \u001b[1;36m-\u001b[0m\u001b[1;36m-help\u001b[0m                       \u001b[1;33m    \u001b[0m  Show this message and exit.                                   \u001b[2m│\u001b[0m\n",
            "\u001b[2m╰──────────────────────────────────────────────────────────────────────────────────────────────────╯\u001b[0m\n",
            "\n"
          ]
        }
      ],
      "source": [
        "# Just for help command\n",
        "!python -m spacy init fill-config --help"
      ]
    },
    {
      "cell_type": "code",
      "execution_count": 25,
      "metadata": {
        "id": "BQ3nfsECa8kZ",
        "outputId": "3d9918d5-cf8c-46bc-b30e-a5f13934d4fb",
        "colab": {
          "base_uri": "https://localhost:8080/",
          "height": 0
        }
      },
      "outputs": [
        {
          "output_type": "stream",
          "name": "stdout",
          "text": [
            "/usr/local/lib/python3.10/dist-packages/transformers/utils/generic.py:441: UserWarning: torch.utils._pytree._register_pytree_node is deprecated. Please use torch.utils._pytree.register_pytree_node instead.\n",
            "  _torch_pytree._register_pytree_node(\n",
            "/usr/local/lib/python3.10/dist-packages/transformers/utils/generic.py:309: UserWarning: torch.utils._pytree._register_pytree_node is deprecated. Please use torch.utils._pytree.register_pytree_node instead.\n",
            "  _torch_pytree._register_pytree_node(\n",
            "\u001b[38;5;2m✔ Auto-filled config with all values\u001b[0m\n",
            "\u001b[38;5;2m✔ Saved config\u001b[0m\n",
            "config.cfg\n",
            "You can now add your data and train your pipeline:\n",
            "python -m spacy train config.cfg --paths.train ./train.spacy --paths.dev ./dev.spacy\n"
          ]
        }
      ],
      "source": [
        "# Intialize confing file downloaded from https://spacy.io/usage/training#quickstart (take care to check \"ner\")\n",
        "!python -m spacy init fill-config 'base_config.cfg' 'config.cfg'"
      ]
    },
    {
      "cell_type": "code",
      "source": [
        "# Train the model\n",
        "!python -m spacy train config.cfg --output ./ --paths.train ./train.spacy --paths.dev ./train.spacy"
      ],
      "metadata": {
        "colab": {
          "base_uri": "https://localhost:8080/",
          "height": 0
        },
        "id": "nI6bX4Qb4Yhd",
        "outputId": "52917052-5acc-4f1b-db7d-af49381a1666"
      },
      "execution_count": 28,
      "outputs": [
        {
          "output_type": "stream",
          "name": "stdout",
          "text": [
            "\u001b[38;5;4mℹ Saving to output directory: .\u001b[0m\n",
            "\u001b[38;5;4mℹ Using CPU\u001b[0m\n",
            "\u001b[38;5;4mℹ To switch to GPU 0, use the option: --gpu-id 0\u001b[0m\n",
            "\u001b[1m\n",
            "=========================== Initializing pipeline ===========================\u001b[0m\n",
            "/usr/local/lib/python3.10/dist-packages/transformers/utils/generic.py:441: UserWarning: torch.utils._pytree._register_pytree_node is deprecated. Please use torch.utils._pytree.register_pytree_node instead.\n",
            "  _torch_pytree._register_pytree_node(\n",
            "/usr/local/lib/python3.10/dist-packages/transformers/utils/generic.py:309: UserWarning: torch.utils._pytree._register_pytree_node is deprecated. Please use torch.utils._pytree.register_pytree_node instead.\n",
            "  _torch_pytree._register_pytree_node(\n",
            "\u001b[38;5;2m✔ Initialized pipeline\u001b[0m\n",
            "\u001b[1m\n",
            "============================= Training pipeline =============================\u001b[0m\n",
            "\u001b[38;5;4mℹ Pipeline: ['tok2vec', 'ner']\u001b[0m\n",
            "\u001b[38;5;4mℹ Initial learn rate: 0.001\u001b[0m\n",
            "E    #       LOSS TOK2VEC  LOSS NER  ENTS_F  ENTS_P  ENTS_R  SCORE \n",
            "---  ------  ------------  --------  ------  ------  ------  ------\n",
            "  0       0          0.00    171.39    0.34    0.37    0.31    0.00\n",
            "  0     200       8104.31  13131.66   50.94   71.18   39.66    0.51\n",
            "  1     400        714.31   5183.67   72.37   76.80   68.43    0.72\n",
            "  1     600        460.24   4071.24   76.78   73.61   80.24    0.77\n",
            "  2     800       1421.74   3256.98   82.55   82.99   82.11    0.83\n",
            "  3    1000        539.70   2939.41   87.27   86.83   87.71    0.87\n",
            "  3    1200        547.93   2295.86   89.55   91.11   88.04    0.90\n",
            "  4    1400        574.17   2042.30   91.70   92.04   91.36    0.92\n",
            "  5    1600        708.28   1801.96   91.97   91.00   92.97    0.92\n",
            "  5    1800        574.35   1484.64   93.49   94.73   92.29    0.93\n",
            "  6    2000        589.81   1307.24   94.00   93.93   94.07    0.94\n",
            "  6    2200        785.30   1308.75   95.55   96.07   95.03    0.96\n",
            "  7    2400        549.32    997.37   96.04   95.60   96.49    0.96\n",
            "  8    2600        647.54   1047.60   96.72   96.53   96.90    0.97\n",
            "  8    2800        789.73    931.30   96.57   96.34   96.81    0.97\n",
            "  9    3000        709.69    798.09   97.56   97.76   97.36    0.98\n",
            " 10    3200        808.70    825.36   96.69   96.82   96.57    0.97\n",
            " 10    3400        799.65    802.15   97.80   97.56   98.03    0.98\n",
            " 11    3600        752.06    761.41   97.63   97.85   97.41    0.98\n",
            " 11    3800       1039.90    747.41   98.03   97.99   98.08    0.98\n",
            " 12    4000        676.64    575.37   96.56   97.71   95.44    0.97\n",
            " 13    4200        988.62    672.66   97.91   97.34   98.49    0.98\n",
            " 13    4400        823.99    542.26   98.35   98.44   98.27    0.98\n",
            " 14    4600        910.68    561.67   98.04   98.24   97.84    0.98\n",
            " 15    4800       1203.61    545.00   98.11   98.34   97.89    0.98\n",
            " 15    5000       1030.26    519.41   98.49   98.56   98.42    0.98\n",
            " 16    5200       1148.85    528.07   98.81   99.15   98.46    0.99\n",
            " 16    5400       1424.39    531.19   98.52   97.87   99.18    0.99\n",
            " 17    5600       1336.52    483.67   98.37   97.77   98.97    0.98\n",
            " 18    5800       1375.01    465.15   98.83   99.01   98.66    0.99\n",
            " 18    6000       1552.88    507.95   98.75   98.54   98.97    0.99\n",
            " 19    6200       1062.40    407.61   98.75   98.82   98.68    0.99\n",
            " 20    6400       1430.27    423.52   98.51   98.53   98.49    0.99\n",
            " 20    6600       1201.63    391.34   98.84   98.75   98.92    0.99\n",
            " 21    6800       1301.04    385.93   99.17   98.90   99.45    0.99\n",
            " 21    7000       1194.35    417.13   98.98   99.06   98.90    0.99\n",
            " 22    7200       1850.65    402.04   99.35   99.28   99.42    0.99\n",
            " 23    7400       1243.14    334.56   99.03   99.09   98.97    0.99\n",
            " 23    7600       1913.21    300.76   98.59   98.31   98.87    0.99\n",
            " 24    7800       1306.57    373.61   98.80   99.01   98.58    0.99\n",
            " 25    8000       1677.22    377.12   99.25   99.45   99.06    0.99\n",
            " 25    8200       1632.75    367.55   99.22   98.93   99.52    0.99\n",
            " 26    8400       1081.35    285.13   99.24   99.18   99.30    0.99\n",
            " 26    8600       1512.97    320.75   99.53   99.69   99.38    1.00\n",
            " 27    8800       1547.82    296.12   99.36   99.45   99.28    0.99\n",
            " 28    9000       1843.14    299.41   99.28   99.21   99.35    0.99\n",
            " 28    9200       1596.06    303.52   99.48   99.66   99.30    0.99\n",
            " 29    9400       2147.67    275.98   99.58   99.50   99.66    1.00\n",
            " 30    9600       1287.10    252.24   99.48   99.54   99.42    0.99\n",
            " 30    9800       1468.35    244.41   99.28   99.19   99.38    0.99\n",
            " 31   10000       1554.98    280.18   99.11   99.21   99.02    0.99\n",
            " 31   10200       1919.25    346.07   98.97   98.71   99.23    0.99\n",
            " 32   10400       1927.76    289.80   99.42   99.50   99.35    0.99\n",
            " 33   10600       1909.09    278.14   99.34   99.38   99.30    0.99\n",
            " 33   10800       1291.76    229.03   99.52   99.35   99.69    1.00\n",
            " 34   11000       2461.69    300.03   99.32   99.14   99.50    0.99\n",
            "\u001b[38;5;2m✔ Saved pipeline to output directory\u001b[0m\n",
            "model-last\n"
          ]
        }
      ]
    },
    {
      "cell_type": "markdown",
      "source": [
        "# 3) Inference"
      ],
      "metadata": {
        "id": "HllAMAvv88k1"
      }
    },
    {
      "cell_type": "code",
      "execution_count": 30,
      "metadata": {
        "id": "Y9h428C2a8kZ",
        "colab": {
          "base_uri": "https://localhost:8080/",
          "height": 0
        },
        "outputId": "0c356f75-7cee-48be-b115-69b814b7e178"
      },
      "outputs": [
        {
          "output_type": "stream",
          "name": "stderr",
          "text": [
            "/usr/local/lib/python3.10/dist-packages/spacy/util.py:1740: UserWarning: [W111] Jupyter notebook detected: if using `prefer_gpu()` or `require_gpu()`, include it in the same cell right before `spacy.load()` to ensure that the model is loaded on the correct device. More information: http://spacy.io/usage/v3#jupyter-notebook-gpu\n",
            "  warnings.warn(Warnings.W111)\n"
          ]
        }
      ],
      "source": [
        "# Load the best model for inference\n",
        "nlp_ner = spacy.load(\"model-best\")"
      ]
    },
    {
      "cell_type": "code",
      "execution_count": 36,
      "metadata": {
        "id": "2fdxrmKaa8ka",
        "outputId": "0cac14fd-e3ac-4ca9-c58c-fad38f2ef436",
        "colab": {
          "base_uri": "https://localhost:8080/",
          "height": 1032
        }
      },
      "outputs": [
        {
          "output_type": "display_data",
          "data": {
            "text/plain": [
              "<IPython.core.display.HTML object>"
            ],
            "text/html": [
              "<span class=\"tex2jax_ignore\"><div class=\"entities\" style=\"line-height: 2.5; direction: ltr\">A \n",
              "<mark class=\"entity\" style=\"background: #F67DE3; padding: 0.45em 0.6em; margin: 0 0.25em; line-height: 1; border-radius: 0.35em;\">\n",
              "    64 year old\n",
              "    <span style=\"font-size: 0.8em; font-weight: bold; line-height: 1; border-radius: 0.35em; vertical-align: middle; margin-left: 0.5rem\">Age</span>\n",
              "</mark>\n",
              " \n",
              "<mark class=\"entity\" style=\"background: #7DF6D9; padding: 0.45em 0.6em; margin: 0 0.25em; line-height: 1; border-radius: 0.35em;\">\n",
              "    female\n",
              "    <span style=\"font-size: 0.8em; font-weight: bold; line-height: 1; border-radius: 0.35em; vertical-align: middle; margin-left: 0.5rem\">Sex</span>\n",
              "</mark>\n",
              " known for HHT is referred to our clinic for recurrent \n",
              "<mark class=\"entity\" style=\"background: #ddd; padding: 0.45em 0.6em; margin: 0 0.25em; line-height: 1; border-radius: 0.35em;\">\n",
              "    epistaxis\n",
              "    <span style=\"font-size: 0.8em; font-weight: bold; line-height: 1; border-radius: 0.35em; vertical-align: middle; margin-left: 0.5rem\">Sign_symptom</span>\n",
              "</mark>\n",
              " for nearly 50 years.<br>She has had recurrent symptoms since the age of 16 when her condition was diagnosed.<br>All three of her siblings also were diagnosed with \n",
              "<mark class=\"entity\" style=\"background: #ddd; padding: 0.45em 0.6em; margin: 0 0.25em; line-height: 1; border-radius: 0.35em;\">\n",
              "    HHT\n",
              "    <span style=\"font-size: 0.8em; font-weight: bold; line-height: 1; border-radius: 0.35em; vertical-align: middle; margin-left: 0.5rem\">Disease_disorder</span>\n",
              "</mark>\n",
              " and her mother passed away from an intracranial \n",
              "<mark class=\"entity\" style=\"background: #ddd; padding: 0.45em 0.6em; margin: 0 0.25em; line-height: 1; border-radius: 0.35em;\">\n",
              "    hemorrhage\n",
              "    <span style=\"font-size: 0.8em; font-weight: bold; line-height: 1; border-radius: 0.35em; vertical-align: middle; margin-left: 0.5rem\">Sign_symptom</span>\n",
              "</mark>\n",
              ".<br>Eight years prior to presentation she had undergone a left-sided \n",
              "<mark class=\"entity\" style=\"background: #ddd; padding: 0.45em 0.6em; margin: 0 0.25em; line-height: 1; border-radius: 0.35em;\">\n",
              "    septodermoplasty\n",
              "    <span style=\"font-size: 0.8em; font-weight: bold; line-height: 1; border-radius: 0.35em; vertical-align: middle; margin-left: 0.5rem\">Sign_symptom</span>\n",
              "</mark>\n",
              " via a lateral rhinotomy approach.<br>This operation had significantly reduced the frequency of her \n",
              "<mark class=\"entity\" style=\"background: #ddd; padding: 0.45em 0.6em; margin: 0 0.25em; line-height: 1; border-radius: 0.35em;\">\n",
              "    symptoms\n",
              "    <span style=\"font-size: 0.8em; font-weight: bold; line-height: 1; border-radius: 0.35em; vertical-align: middle; margin-left: 0.5rem\">Sign_symptom</span>\n",
              "</mark>\n",
              " and for several years her \n",
              "<mark class=\"entity\" style=\"background: #ddd; padding: 0.45em 0.6em; margin: 0 0.25em; line-height: 1; border-radius: 0.35em;\">\n",
              "    epistaxis\n",
              "    <span style=\"font-size: 0.8em; font-weight: bold; line-height: 1; border-radius: 0.35em; vertical-align: middle; margin-left: 0.5rem\">Sign_symptom</span>\n",
              "</mark>\n",
              " was under control with the use of low dose thalidomide.<br>However, she was referred to our clinic due to increased \n",
              "<mark class=\"entity\" style=\"background: #ddd; padding: 0.45em 0.6em; margin: 0 0.25em; line-height: 1; border-radius: 0.35em;\">\n",
              "    epistaxis\n",
              "    <span style=\"font-size: 0.8em; font-weight: bold; line-height: 1; border-radius: 0.35em; vertical-align: middle; margin-left: 0.5rem\">Sign_symptom</span>\n",
              "</mark>\n",
              " severity and frequency over the prior 12 months necessitating more frequent transfusions.<br>At the time of consultation the patient was concerned about daily severe left sided \n",
              "<mark class=\"entity\" style=\"background: #ddd; padding: 0.45em 0.6em; margin: 0 0.25em; line-height: 1; border-radius: 0.35em;\">\n",
              "    epistaxis\n",
              "    <span style=\"font-size: 0.8em; font-weight: bold; line-height: 1; border-radius: 0.35em; vertical-align: middle; margin-left: 0.5rem\">Sign_symptom</span>\n",
              "</mark>\n",
              " despite several months use of topical bevacizumab and oral tranexamic acid.<br>She required intravenous iron and blood transfusions every two months.<br>Her baseline hemoglobin at the time of our consultation was 75 g/L (normal = 120 – 160 g/L).<br>Her HHT epistaxis severity score [17] was severe (normalized score 9.49).<br>On examination, she had multiple \n",
              "<mark class=\"entity\" style=\"background: #ddd; padding: 0.45em 0.6em; margin: 0 0.25em; line-height: 1; border-radius: 0.35em;\">\n",
              "    telangiectasia\n",
              "    <span style=\"font-size: 0.8em; font-weight: bold; line-height: 1; border-radius: 0.35em; vertical-align: middle; margin-left: 0.5rem\">Disease_disorder</span>\n",
              "</mark>\n",
              " on her fingers, face, lips and palate.<br>Her endoscopic examination revealed bilateral telangiectasia along the nasal septum.<br>There was extensive crusting along the entire left nasal cavity with which any manipulation resulted in immediate profuse \n",
              "<mark class=\"entity\" style=\"background: #ddd; padding: 0.45em 0.6em; margin: 0 0.25em; line-height: 1; border-radius: 0.35em;\">\n",
              "    epistaxis\n",
              "    <span style=\"font-size: 0.8em; font-weight: bold; line-height: 1; border-radius: 0.35em; vertical-align: middle; margin-left: 0.5rem\">Sign_symptom</span>\n",
              "</mark>\n",
              ".<br>Given the severity of the patient’s \n",
              "<mark class=\"entity\" style=\"background: #ddd; padding: 0.45em 0.6em; margin: 0 0.25em; line-height: 1; border-radius: 0.35em;\">\n",
              "    epistaxis\n",
              "    <span style=\"font-size: 0.8em; font-weight: bold; line-height: 1; border-radius: 0.35em; vertical-align: middle; margin-left: 0.5rem\">Sign_symptom</span>\n",
              "</mark>\n",
              " despite medical therapy, she was offered endoscopic left-sided \n",
              "<mark class=\"entity\" style=\"background: #ddd; padding: 0.45em 0.6em; margin: 0 0.25em; line-height: 1; border-radius: 0.35em;\">\n",
              "    septodermoplasty\n",
              "    <span style=\"font-size: 0.8em; font-weight: bold; line-height: 1; border-radius: 0.35em; vertical-align: middle; margin-left: 0.5rem\">Sign_symptom</span>\n",
              "</mark>\n",
              ".<br>The surgical goals were to improve her quality of life by reducing the number and severity of \n",
              "<mark class=\"entity\" style=\"background: #ddd; padding: 0.45em 0.6em; margin: 0 0.25em; line-height: 1; border-radius: 0.35em;\">\n",
              "    epistaxis\n",
              "    <span style=\"font-size: 0.8em; font-weight: bold; line-height: 1; border-radius: 0.35em; vertical-align: middle; margin-left: 0.5rem\">Sign_symptom</span>\n",
              "</mark>\n",
              " episodes while diminishing the need for blood transfusions.<br>The patient was content with the treatment plan and agreed to undergo surgical intervention.<br>The endoscopic procedure was performed under general anesthesia with endotracheal intubation.<br>The nasal cavity was prepared by inserting pledgets soaked in topical adrenaline (1:1000) placed in both nostrils for decongestion.<br>Using a zero degree endoscope the residual \n",
              "<mark class=\"entity\" style=\"background: #ddd; padding: 0.45em 0.6em; margin: 0 0.25em; line-height: 1; border-radius: 0.35em;\">\n",
              "    STSG\n",
              "    <span style=\"font-size: 0.8em; font-weight: bold; line-height: 1; border-radius: 0.35em; vertical-align: middle; margin-left: 0.5rem\">Disease_disorder</span>\n",
              "</mark>\n",
              " and mucosa of the left septum was dissected in a supraperichondrial plane that resulted in the expected significant diffuse \n",
              "<mark class=\"entity\" style=\"background: #ddd; padding: 0.45em 0.6em; margin: 0 0.25em; line-height: 1; border-radius: 0.35em;\">\n",
              "    hemorrhage\n",
              "    <span style=\"font-size: 0.8em; font-weight: bold; line-height: 1; border-radius: 0.35em; vertical-align: middle; margin-left: 0.5rem\">Sign_symptom</span>\n",
              "</mark>\n",
              ".<br>Immediate hemostasis was attained using a topical gelatin-thrombin matrix, Floseal (FloSeal Hemostatic Matrix; Baxter Healthcare Corporation, Deerfield, IL, USA) (Fig.1).<br>The \n",
              "<mark class=\"entity\" style=\"background: #ddd; padding: 0.45em 0.6em; margin: 0 0.25em; line-height: 1; border-radius: 0.35em;\">\n",
              "    mucosal defect\n",
              "    <span style=\"font-size: 0.8em; font-weight: bold; line-height: 1; border-radius: 0.35em; vertical-align: middle; margin-left: 0.5rem\">Sign_symptom</span>\n",
              "</mark>\n",
              " (Fig.2) measured approximately 3 cm in anterior-posterior dimension.<br>A 4 x 2 cm split thickness skin graft was harvested from the right thigh, pie-crusted with a 15 blade and then placed endoscopically along the length of the septal defect.<br>As seen in Fig.3, the graft was placed with an overlap of the mucosa of the nasal floor and the residual superior septal mucosa.<br>Finally, 2 mL of fibrin sealant (TISSEEL fibrin sealant, Baxter Healthcare Corporation, Deerfield, IL, USA) was then applied first to the edges then central portion of the \n",
              "<mark class=\"entity\" style=\"background: #ddd; padding: 0.45em 0.6em; margin: 0 0.25em; line-height: 1; border-radius: 0.35em;\">\n",
              "    STSG\n",
              "    <span style=\"font-size: 0.8em; font-weight: bold; line-height: 1; border-radius: 0.35em; vertical-align: middle; margin-left: 0.5rem\">Disease_disorder</span>\n",
              "</mark>\n",
              " (Fig.4).<br>Packing was not used post-operatively and the patient was discharged home on the same day of surgery.<br>Clinical follow-up two weeks after surgery (Fig.5) showed that the entire graft had taken and the left-sided \n",
              "<mark class=\"entity\" style=\"background: #ddd; padding: 0.45em 0.6em; margin: 0 0.25em; line-height: 1; border-radius: 0.35em;\">\n",
              "    epistaxis\n",
              "    <span style=\"font-size: 0.8em; font-weight: bold; line-height: 1; border-radius: 0.35em; vertical-align: middle; margin-left: 0.5rem\">Sign_symptom</span>\n",
              "</mark>\n",
              " had dramatically diminished.<br>The patient was very content with the results of the procedure.<br>At 6 months follow-up, her baseline hemoglobin had improved to 102 g/L and she was requiring transfusions every 4 months with her hematologist’s intent to stop the transfusions if her hemoglobin remained greater than 100 g/L.<br>Her epistaxis severity score at 6 month follow up was mild (normalized score 3.05).<br></div></span>"
            ]
          },
          "metadata": {}
        }
      ],
      "source": [
        "# Inference\n",
        "\n",
        "doc = nlp_ner(test_data[10]['text'])\n",
        "\n",
        "colors = {\n",
        "    \"Age\": \"#F67DE3\",\n",
        "    \"Sex\": \"#7DF6D9\",\n",
        "    \"Symptoms\": \"#a6e22d\",\n",
        "    \"Disease Disorder\": \"#8A2BE2\",\n",
        "\n",
        "}\n",
        "\n",
        "options = {\"colors\": colors}\n",
        "\n",
        "spacy.displacy.render(doc, style=\"ent\", options= options, jupyter=True)"
      ]
    },
    {
      "cell_type": "code",
      "source": [],
      "metadata": {
        "id": "GwY1Frdo_o55"
      },
      "execution_count": null,
      "outputs": []
    }
  ],
  "metadata": {
    "kernelspec": {
      "display_name": "Python 3",
      "name": "python3"
    },
    "language_info": {
      "codemirror_mode": {
        "name": "ipython",
        "version": 3
      },
      "file_extension": ".py",
      "mimetype": "text/x-python",
      "name": "python",
      "nbconvert_exporter": "python",
      "pygments_lexer": "ipython3",
      "version": "3.10.14"
    },
    "colab": {
      "provenance": [],
      "gpuType": "T4"
    },
    "accelerator": "GPU"
  },
  "nbformat": 4,
  "nbformat_minor": 0
}